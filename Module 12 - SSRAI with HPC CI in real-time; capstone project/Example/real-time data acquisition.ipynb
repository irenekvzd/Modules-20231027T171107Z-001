{
 "cells": [
  {
   "cell_type": "markdown",
   "metadata": {},
   "source": [
    "Creating a comprehensive example of a \"SSRAI with HPC CI in real-time\" capstone project in Python involves several steps. This project will include real-time data acquisition, high-performance computing (HPC) for computational tasks, and continuous integration (CI) practices.\n",
    "\n",
    "Here’s a detailed outline of the project:\n",
    "\n",
    "Real-Time Data Acquisition: This component involves collecting real-time data, which could be from sensors, APIs, or other streaming sources.\n",
    "High-Performance Computing (HPC): Utilize HPC to perform complex computations or data processing tasks.\n",
    "Continuous Integration (CI): Implement CI practices to ensure that code changes are automatically tested and deployed."
   ]
  },
  {
   "cell_type": "markdown",
   "metadata": {},
   "source": [
    "Step 1: Real-Time Data Acquisition\n",
    "\n",
    "We'll use a mock example where we simulate real-time data acquisition from a sensor."
   ]
  },
  {
   "cell_type": "code",
   "execution_count": null,
   "metadata": {},
   "outputs": [],
   "source": [
    "import time\n",
    "import random\n",
    "\n",
    "def acquire_data():\n",
    "    \"\"\"Simulate real-time data acquisition from a sensor.\"\"\"\n",
    "    while True:\n",
    "        data = random.random()  # Simulate a sensor reading\n",
    "        yield data\n",
    "        time.sleep(1)  # Simulate a 1-second interval between readings\n",
    "\n",
    "# Example usage\n",
    "for data in acquire_data():\n",
    "    print(f\"Acquired data: {data}\")\n",
    "    # In a real scenario, you would send this data to a processing unit\n"
   ]
  },
  {
   "cell_type": "markdown",
   "metadata": {},
   "source": [
    "Step 2: High-Performance Computing (HPC)\n",
    "\n",
    "We'll use a mock computation task that leverages multiprocessing to simulate an HPC environment."
   ]
  },
  {
   "cell_type": "code",
   "execution_count": null,
   "metadata": {},
   "outputs": [],
   "source": [
    "import multiprocessing as mp\n",
    "\n",
    "def complex_computation(data):\n",
    "    \"\"\"Simulate a complex computation task.\"\"\"\n",
    "    return data ** 2\n",
    "\n",
    "def process_data(data_queue, result_queue):\n",
    "    while True:\n",
    "        data = data_queue.get()\n",
    "        if data is None:\n",
    "            break\n",
    "        result = complex_computation(data)\n",
    "        result_queue.put(result)\n",
    "\n",
    "# Setting up the multiprocessing environment\n",
    "data_queue = mp.Queue()\n",
    "result_queue = mp.Queue()\n",
    "num_processes = 4\n",
    "\n",
    "processes = [mp.Process(target=process_data, args=(data_queue, result_queue)) for _ in range(num_processes)]\n",
    "for p in processes:\n",
    "    p.start()\n",
    "\n",
    "# Example usage\n",
    "for data in acquire_data():\n",
    "    data_queue.put(data)\n",
    "    result = result_queue.get()\n",
    "    print(f\"Processed result: {result}\")\n",
    "    # Stop the loop after a certain number of iterations for demonstration purposes\n",
    "    if random.random() > 0.95:\n",
    "        break\n",
    "\n",
    "# Terminate processes\n",
    "for _ in range(num_processes):\n",
    "    data_queue.put(None)\n",
    "for p in processes:\n",
    "    p.join()\n"
   ]
  },
  {
   "cell_type": "markdown",
   "metadata": {},
   "source": [
    "Step 3: Continuous Integration (CI)\n",
    "\n",
    "We'll use pytest for testing and GitHub Actions for CI. Here's a simplified example.\n",
    "\n",
    "Testing with pytest\n",
    "First, install pytest:"
   ]
  },
  {
   "cell_type": "code",
   "execution_count": null,
   "metadata": {},
   "outputs": [],
   "source": [
    "pip install pytest\n"
   ]
  },
  {
   "cell_type": "markdown",
   "metadata": {},
   "source": [
    "Create a test file test_computation.py:"
   ]
  },
  {
   "cell_type": "code",
   "execution_count": null,
   "metadata": {},
   "outputs": [],
   "source": [
    "from your_module import complex_computation\n",
    "\n",
    "def test_complex_computation():\n",
    "    assert complex_computation(2) == 4\n",
    "    assert complex_computation(3) == 9\n"
   ]
  },
  {
   "cell_type": "markdown",
   "metadata": {},
   "source": [
    "Run the tests:"
   ]
  },
  {
   "cell_type": "code",
   "execution_count": null,
   "metadata": {},
   "outputs": [],
   "source": [
    "pytest test_computation.py\n"
   ]
  },
  {
   "cell_type": "markdown",
   "metadata": {},
   "source": [
    "GitHub Actions Workflow\n",
    "Create a .github/workflows/ci.yml file in your repository:"
   ]
  },
  {
   "cell_type": "code",
   "execution_count": null,
   "metadata": {},
   "outputs": [],
   "source": [
    "name: CI\n",
    "\n",
    "on:\n",
    "  push:\n",
    "    branches:\n",
    "      - main\n",
    "  pull_request:\n",
    "    branches:\n",
    "      - main\n",
    "\n",
    "jobs:\n",
    "  test:\n",
    "    runs-on: ubuntu-latest\n",
    "\n",
    "    steps:\n",
    "    - name: Checkout code\n",
    "      uses: actions/checkout@v2\n",
    "\n",
    "    - name: Set up Python\n",
    "      uses: actions/setup-python@v2\n",
    "      with:\n",
    "        python-version: '3.x'\n",
    "\n",
    "    - name: Install dependencies\n",
    "      run: |\n",
    "        python -m pip install --upgrade pip\n",
    "        pip install pytest\n",
    "\n",
    "    - name: Run tests\n",
    "      run: |\n",
    "        pytest test_computation.py\n"
   ]
  },
  {
   "cell_type": "markdown",
   "metadata": {},
   "source": [
    "Bringing It All Together\n",
    "This capstone project will involve the following:\n",
    "\n",
    "Real-Time Data Acquisition: Acquiring data from a simulated sensor.\n",
    "High-Performance Computing: Using multiprocessing to process data.\n",
    "Continuous Integration: Setting up automated testing and deployment with GitHub Actions.\n",
    "Here is a comprehensive Python script that ties these components together:"
   ]
  },
  {
   "cell_type": "code",
   "execution_count": null,
   "metadata": {},
   "outputs": [],
   "source": [
    "import time\n",
    "import random\n",
    "import multiprocessing as mp\n",
    "\n",
    "def acquire_data():\n",
    "    \"\"\"Simulate real-time data acquisition from a sensor.\"\"\"\n",
    "    while True:\n",
    "        data = random.random()  # Simulate a sensor reading\n",
    "        yield data\n",
    "        time.sleep(1)  # Simulate a 1-second interval between readings\n",
    "\n",
    "def complex_computation(data):\n",
    "    \"\"\"Simulate a complex computation task.\"\"\"\n",
    "    return data ** 2\n",
    "\n",
    "def process_data(data_queue, result_queue):\n",
    "    while True:\n",
    "        data = data_queue.get()\n",
    "        if data is None:\n",
    "            break\n",
    "        result = complex_computation(data)\n",
    "        result_queue.put(result)\n",
    "\n",
    "if __name__ == \"__main__\":\n",
    "    data_queue = mp.Queue()\n",
    "    result_queue = mp.Queue()\n",
    "    num_processes = 4\n",
    "\n",
    "    processes = [mp.Process(target=process_data, args=(data_queue, result_queue)) for _ in range(num_processes)]\n",
    "    for p in processes:\n",
    "        p.start()\n",
    "\n",
    "    for data in acquire_data():\n",
    "        data_queue.put(data)\n",
    "        result = result_queue.get()\n",
    "        print(f\"Processed result: {result}\")\n",
    "        if random.random() > 0.95:\n",
    "            break\n",
    "\n",
    "    for _ in range(num_processes):\n",
    "        data_queue.put(None)\n",
    "    for p in processes:\n",
    "        p.join()\n"
   ]
  }
 ],
 "metadata": {
  "language_info": {
   "name": "python"
  }
 },
 "nbformat": 4,
 "nbformat_minor": 2
}
