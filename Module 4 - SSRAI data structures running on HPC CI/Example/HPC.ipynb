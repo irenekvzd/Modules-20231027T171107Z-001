{
 "cells": [
  {
   "cell_type": "markdown",
   "metadata": {},
   "source": [
    "\n",
    "Setting up an HPC environment simulation.\n",
    "Creating a simple SSRAI (Scalable, Self-Resilient Artificial Intelligence) data structure.\n",
    "Implementing a parallel computation using mpi4py for HPC.\n",
    "Integrating Continuous Integration (CI) testing with pytest."
   ]
  },
  {
   "cell_type": "markdown",
   "metadata": {},
   "source": [
    "Step 1: Setting up HPC Environment Simulation\n",
    "\n",
    "Installation of Required Packages\n",
    "You need mpi4py for parallel processing and pytest for CI testing.\n",
    "\n"
   ]
  },
  {
   "cell_type": "code",
   "execution_count": null,
   "metadata": {},
   "outputs": [],
   "source": [
    "pip install mpi4py pytest\n"
   ]
  },
  {
   "cell_type": "markdown",
   "metadata": {},
   "source": [
    "Initialization of the HPC Environment\n",
    "For the purpose of this notebook, we will simulate an HPC environment using mpi4py. Normally, this would run on an actual HPC cluster."
   ]
  },
  {
   "cell_type": "code",
   "execution_count": null,
   "metadata": {},
   "outputs": [],
   "source": [
    "# Import necessary libraries\n",
    "from mpi4py import MPI\n",
    "import numpy as np\n",
    "import pytest\n",
    "\n",
    "# Initialize the MPI communicator\n",
    "comm = MPI.COMM_WORLD\n",
    "size = comm.Get_size()\n",
    "rank = comm.Get_rank()\n",
    "\n",
    "print(f\"Running on rank {rank} out of {size}\")\n"
   ]
  },
  {
   "cell_type": "markdown",
   "metadata": {},
   "source": [
    "Step 2: Creating SSRAI Data Structures\n",
    "\n",
    "We'll create a simple data structure that can handle distributed data across multiple nodes.\n",
    "\n"
   ]
  },
  {
   "cell_type": "code",
   "execution_count": null,
   "metadata": {},
   "outputs": [],
   "source": [
    "class SSRAIDataStructure:\n",
    "    def __init__(self, data):\n",
    "        self.data = data\n",
    "        self.resilient_data = None\n",
    "\n",
    "    def distribute_data(self):\n",
    "        # Split the data for distribution\n",
    "        data_chunks = np.array_split(self.data, size)\n",
    "        local_data = comm.scatter(data_chunks, root=0)\n",
    "        return local_data\n",
    "\n",
    "    def gather_data(self, local_data):\n",
    "        gathered_data = comm.gather(local_data, root=0)\n",
    "        if rank == 0:\n",
    "            self.resilient_data = np.concatenate(gathered_data)\n",
    "        return self.resilient_data\n",
    "\n",
    "# Example usage\n",
    "if rank == 0:\n",
    "    data = np.arange(100)  # Example data\n",
    "else:\n",
    "    data = None\n",
    "\n",
    "ssrai_data = SSRAIDataStructure(data)\n",
    "local_data = ssrai_data.distribute_data()\n",
    "\n",
    "# Perform local computation (e.g., square the local data)\n",
    "local_data = local_data ** 2\n",
    "\n",
    "resilient_data = ssrai_data.gather_data(local_data)\n",
    "\n",
    "if rank == 0:\n",
    "    print(\"Original Data:\", ssrai_data.data)\n",
    "    print(\"Processed Data:\", resilient_data)\n"
   ]
  },
  {
   "cell_type": "markdown",
   "metadata": {},
   "source": [
    "Step 3: Parallel Computation using mpi4py\n",
    "\n",
    "This step is integrated within the SSRAIDataStructure class to distribute and gather data across nodes. The above class handles the parallel computation implicitly.\n",
    "\n"
   ]
  },
  {
   "cell_type": "markdown",
   "metadata": {},
   "source": [
    "Step 4: Integrating Continuous Integration (CI) Testing with pytest\n",
    "\n",
    "Writing Tests\n",
    "We will write tests to ensure our data structure behaves correctly. The tests will be simple checks on the distribution and gathering of data."
   ]
  },
  {
   "cell_type": "code",
   "execution_count": null,
   "metadata": {},
   "outputs": [],
   "source": [
    "def test_data_distribution():\n",
    "    if rank == 0:\n",
    "        data = np.arange(100)\n",
    "    else:\n",
    "        data = None\n",
    "\n",
    "    ssrai_data = SSRAIDataStructure(data)\n",
    "    local_data = ssrai_data.distribute_data()\n",
    "    \n",
    "    assert local_data is not None\n",
    "    assert isinstance(local_data, np.ndarray)\n",
    "    assert len(local_data) <= len(data) // size + 1\n",
    "\n",
    "def test_data_gathering():\n",
    "    if rank == 0:\n",
    "        data = np.arange(100)\n",
    "    else:\n",
    "        data = None\n",
    "\n",
    "    ssrai_data = SSRAIDataStructure(data)\n",
    "    local_data = ssrai_data.distribute_data()\n",
    "    local_data = local_data ** 2\n",
    "    resilient_data = ssrai_data.gather_data(local_data)\n",
    "    \n",
    "    if rank == 0:\n",
    "        assert np.array_equal(resilient_data, np.arange(100) ** 2)\n",
    "\n",
    "if __name__ == \"__main__\":\n",
    "    pytest.main([\"-v\", __file__])\n"
   ]
  },
  {
   "cell_type": "markdown",
   "metadata": {},
   "source": [
    "Running Tests\n",
    "Tests should be run in an HPC CI environment, which would involve using an HPC job scheduler (e.g., Slurm) to submit the test jobs. Here's a simple way to simulate running the tests:"
   ]
  },
  {
   "cell_type": "code",
   "execution_count": null,
   "metadata": {},
   "outputs": [],
   "source": [
    "mpiexec -n 4 python -m pytest -v test_script.py\n"
   ]
  },
  {
   "cell_type": "markdown",
   "metadata": {},
   "source": [
    "This command runs the tests across 4 simulated nodes."
   ]
  },
  {
   "cell_type": "markdown",
   "metadata": {},
   "source": [
    "Summary\n",
    "\n",
    "This example shows how to:\n",
    "\n",
    "Set up a simulated HPC environment using mpi4py.\n",
    "Create a basic SSRAI data structure capable of distributing and gathering data.\n",
    "Perform parallel computation.\n",
    "Write and run tests using pytest to integrate CI testing.\n",
    "This setup provides a framework for developing and testing SSRAI data structures in an HPC environment with continuous integration."
   ]
  }
 ],
 "metadata": {
  "kernelspec": {
   "display_name": "Python 3",
   "language": "python",
   "name": "python3"
  },
  "language_info": {
   "name": "python",
   "version": "3.9.6"
  }
 },
 "nbformat": 4,
 "nbformat_minor": 2
}
